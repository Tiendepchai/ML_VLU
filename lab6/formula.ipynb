{
 "cells": [
  {
   "cell_type": "code",
   "execution_count": 23,
   "metadata": {},
   "outputs": [],
   "source": [
    "import torch\n",
    "import math\n",
    "import numpy as np"
   ]
  },
  {
   "cell_type": "markdown",
   "metadata": {},
   "source": [
    "+ Hoàn thành công thức tính loss function."
   ]
  },
  {
   "cell_type": "code",
   "execution_count": 24,
   "metadata": {},
   "outputs": [],
   "source": [
    "# Công thức tính CrossEntropy Loss\n",
    "def crossEntropyLoss(output, target):\n",
    "  if len(output) != len(target):\n",
    "    return 0\n",
    "  n = len(output)\n",
    "  return sum([-target[x]*math.log(output[x]) for x in range(n)])"
   ]
  },
  {
   "cell_type": "code",
   "execution_count": 25,
   "metadata": {},
   "outputs": [],
   "source": [
    "# Công thức tính Mean Square Error\n",
    "def meanSquareError(output, target):\n",
    "  if len(output) != len(target):\n",
    "    return 0\n",
    "  n = len(output)\n",
    "  return sum([(target[x] - output[x])**2 for x in range(n)])/n"
   ]
  },
  {
   "cell_type": "code",
   "execution_count": 26,
   "metadata": {},
   "outputs": [],
   "source": [
    "# Công thức tính BinaryEntropy Loss\n",
    "def binaryEntropyLoss(output, target, n):\n",
    "  bce = lambda y, p: y * math.log(p) + (1 - y) * math.log(1 - p)\n",
    "  return -sum([bce(target[i], output[i]) for i in range(n)])/n"
   ]
  },
  {
   "cell_type": "code",
   "execution_count": 27,
   "metadata": {},
   "outputs": [
    {
     "name": "stdout",
     "output_type": "stream",
     "text": [
      "Mean Square Error: 0.08362500369548798\n",
      "Binary Entropy Loss: 0.7601855397224426\n",
      "Cross Entroypy Loss: 1.5790680646896362\n"
     ]
    }
   ],
   "source": [
    "inputs = torch.tensor([0.1, 0.3, 0.6, 0.7])\n",
    "target = torch.tensor([0.31, 0.32, 0.8, 0.2])\n",
    "n = len(inputs)\n",
    "mse = meanSquareError(inputs, target)\n",
    "binary_loss = binaryEntropyLoss(inputs, target, n)\n",
    "cross_loss = crossEntropyLoss(inputs, target)\n",
    "print(f\"Mean Square Error: {mse}\")\n",
    "print(f\"Binary Entropy Loss: {binary_loss}\")\n",
    "print(f\"Cross Entroypy Loss: {cross_loss}\")"
   ]
  },
  {
   "attachments": {
    "image.png": {
     "image/png": "[encoded data removed]"
    }
   },
   "cell_type": "markdown",
   "metadata": {},
   "source": [
    "![image.png](attachment:image.png)"
   ]
  },
  {
   "cell_type": "markdown",
   "metadata": {},
   "source": [
    "+ Hoàn thành công thức tính activation function"
   ]
  },
  {
   "cell_type": "code",
   "execution_count": 28,
   "metadata": {},
   "outputs": [],
   "source": [
    "# Công thức hàm sigmoid\n",
    "def sigmoid(x: torch.tensor):\n",
    "  return 1 / (1 + np.exp(-x))"
   ]
  },
  {
   "cell_type": "code",
   "execution_count": 29,
   "metadata": {},
   "outputs": [],
   "source": [
    "# Công thức hàm relu\n",
    "def relu(x: torch.tensor):\n",
    "  return np.maximum(0, x)"
   ]
  },
  {
   "cell_type": "code",
   "execution_count": 46,
   "metadata": {},
   "outputs": [],
   "source": [
    "# Công thức hàm softmax\n",
    "def softmax(zi: torch.tensor):\n",
    "  e_Z = np.exp(zi)\n",
    "  return e_Z / e_Z.sum(axis = 0)"
   ]
  },
  {
   "cell_type": "code",
   "execution_count": 38,
   "metadata": {},
   "outputs": [],
   "source": [
    "# Công thức hàm tanh\n",
    "def tanh(x: torch.tensor):\n",
    "  return np.tanh(x)"
   ]
  },
  {
   "cell_type": "code",
   "execution_count": 47,
   "metadata": {},
   "outputs": [
    {
     "name": "stdout",
     "output_type": "stream",
     "text": [
      "Sigmoid = tensor([0.7311, 0.9933, 0.0180, 0.9526, 0.1192], dtype=torch.float64)\n",
      "Relu = tensor([1, 5, 0, 3, 0])\n",
      "Softmax = tensor([1.5862e-02, 8.6604e-01, 1.0688e-04, 1.1721e-01, 7.8972e-04],\n",
      "       dtype=torch.float64)\n",
      "Tanh = tensor([ 0.7616,  0.9999, -0.9993,  0.9951, -0.9640], dtype=torch.float64)\n"
     ]
    }
   ],
   "source": [
    "x = torch.tensor([1, 5, -4, 3, -2])\n",
    "f_sigmoid = sigmoid(x)\n",
    "f_relu = relu(x)\n",
    "f_softmax = softmax(x)\n",
    "f_tanh = tanh(x)\n",
    "print(f\"Sigmoid = {f_sigmoid}\")\n",
    "print(f\"Relu = {f_relu}\")\n",
    "print(f\"Softmax = {f_softmax}\")\n",
    "print(f\"Tanh = {f_tanh}\")\n"
   ]
  },
  {
   "attachments": {
    "image.png": {
     "image/png": "[encoded data removed]"
    }
   },
   "cell_type": "markdown",
   "metadata": {},
   "source": [
    "![image.png](attachment:image.png)"
   ]
  }
 ],
 "metadata": {
  "kernelspec": {
   "display_name": "LEARN",
   "language": "python",
   "name": "python3"
  },
  "language_info": {
   "codemirror_mode": {
    "name": "ipython",
    "version": 3
   },
   "file_extension": ".py",
   "mimetype": "text/x-python",
   "name": "python",
   "nbconvert_exporter": "python",
   "pygments_lexer": "ipython3",
   "version": "3.12.2"
  }
 },
 "nbformat": 4,
 "nbformat_minor": 2
}
