{
 "cells": [
  {
   "cell_type": "markdown",
   "metadata": {},
   "source": [
    "# LAB - Tính toán các chỉ số đánh giá từ Ma trận Nhầm lẫn\n",
    "\n",
    "## Giới thiệu\n",
    "Trong học máy và các bài toán phân loại, **ma trận nhầm lẫn** (Confusion Matrix) là một công cụ giúp đánh giá chất lượng của mô hình dự đoán. Ma trận này cho thấy kết quả dự đoán đúng và sai của mô hình.\n",
    "\n",
    "Một ma trận nhầm lẫn cơ bản cho bài toán phân loại nhị phân có dạng:\n",
    "\n",
    "$$\n",
    "\\begin{bmatrix}\n",
    "TN & FP \\\\\n",
    "FN & TP \\\\\n",
    "\\end{bmatrix}\n",
    "$$\n",
    "\n",
    "### Ý nghĩa các chỉ số trong ma trận nhầm lẫn\n",
    "- **True Negative (TN)**: Số lượng mẫu thực tế là **âm** (Negative) và mô hình cũng dự đoán là **âm**.\n",
    "- **False Positive (FP)**: Số lượng mẫu thực tế là **âm** nhưng mô hình lại dự đoán là **dương** (Positive). Đây còn gọi là **dương giả**.\n",
    "- **False Negative (FN)**: Số lượng mẫu thực tế là **dương** nhưng mô hình lại dự đoán là **âm**. Đây còn gọi là **âm giả**.\n",
    "- **True Positive (TP)**: Số lượng mẫu thực tế là **dương** và mô hình cũng dự đoán là **dương**.\n",
    "\n",
    "Các giá trị này có thể tính toán được nhiều chỉ số quan trọng, giúp đánh giá mô hình một cách toàn diện.\n",
    "\n",
    "## Các Chỉ số Đánh giá Hiệu quả Mô Hình\n",
    "\n",
    "### 1. Độ chính xác (Accuracy)\n",
    "**Độ chính xác** là tỷ lệ số dự đoán đúng trên tổng số mẫu. Chỉ số này cho biết mô hình dự đoán chính xác bao nhiêu phần trăm.\n",
    "$$\n",
    "\\text{Accuracy} = \\frac{TP + TN}{TP + TN + FP + FN}\n",
    "$$\n",
    "\n",
    "### 2. Độ nhạy (Recall) \n",
    "**Độ nhạy** hay còn gọi là **Tỷ lệ phát hiện dương** (Sensitivity) cho biết mô hình phát hiện đúng bao nhiêu phần trăm các mẫu dương. Độ nhạy đặc biệt quan trọng khi chúng ta muốn giảm thiểu số trường hợp **âm giả**.\n",
    "$$\n",
    "\\text{Recall} = \\frac{TP}{TP + FN}\n",
    "$$\n",
    "\n",
    "Ví dụ, nếu đang xây dựng mô hình chẩn đoán bệnh, Recall cao có nghĩa là mô hình không bỏ sót quá nhiều ca bệnh.\n",
    "\n",
    " Giải thích :\n",
    "- recall là tỷ lệ phát hiện đúng các mẫu dương.\n",
    "- Trong trường hợp chẩn đoán bệnh, các mẫu dương là các ca bệnh thực sự.\n",
    "- recall cao có nghĩa là mô hình phát hiện được hầu hết các ca bệnh, tức là không bỏ sót nhiều ca bệnh\n",
    "\n",
    "### 3. Độ đặc hiệu (Specificity)\n",
    "**Độ đặc hiệu** là tỷ lệ dự đoán đúng các mẫu âm trên tổng số các mẫu âm thực tế. Chỉ số này cho biết mô hình có khả năng nhận diện đúng các mẫu âm tốt như thế nào.\n",
    "$$\n",
    "\\text{Specificity} = \\frac{TN}{TN + FP}\n",
    "$$\n",
    "\n",
    "Ví dụ, trong mô hình phát hiện gian lận, Specificity cao tránh được các trường hợp báo động sai (dương giả).\n",
    "\n",
    "Giải thích: \n",
    "- Specificity là tỷ lệ dự đoán đúng các mẫu âm\n",
    "- Trong trường hợp phát hiện gian lận, các mẫu âm là các giao dịch không gian lận\n",
    "- Specificity cao có nghĩa là mô hình nhận diện đúng hầu hết các giao dịch không gian lận, tức là giảm thiểu các trường hợp báo động sai (False Positive)\n",
    "\n",
    "### 4. Giá trị dự đoán dương (Precision)\n",
    "**Precision** hay còn gọi là **Độ chính xác của các dự đoán dương** là tỷ lệ dự đoán đúng trong số tất cả các mẫu được dự đoán là dương. Precision đặc biệt quan trọng khi chi phí của việc dương giả cao.\n",
    "$$\n",
    "\\text{Precision} = \\frac{TP}{TP + FP}\n",
    "$$\n",
    "\n",
    "Ví dụ, trong mô hình phát hiện ung thư, Precision cao đảm bảo rằng những trường hợp bị đánh dấu là dương (bệnh nhân mắc ung thư) có khả năng mắc bệnh thực sự.\n",
    "\n",
    "Giải thích:\n",
    "- Precision là tỷ lệ dự đoán đúng trong số tất cả các mẫu được dự đoán là dương\n",
    "- Trong trường hợp phát hiện ung thư, các mẫu dương là các bệnh nhân được dự đoán mắc ung thư\n",
    "- Precision cao có nghĩa là hầu hết các bệnh nhân được dự đoán mắc ung thư thực sự mắc bệnh, tức là giảm thiểu các trường hợp dương giả (False Positive)\n",
    "\n",
    "### 5. F1-Score\n",
    "**F1 Score** là trung bình điều hòa giữa Precision và Recall. Chỉ số này hữu ích khi cần cân bằng giữa Recall và Precision, đặc biệt trong các bài toán mà một chỉ số cao hơn có thể dẫn đến một chỉ số khác bị giảm.\n",
    "$$\n",
    "F1 = \\frac{2 \\times \\text{Precision} \\times \\text{Recall}}{\\text{Precision} + \\text{Recall}}\n",
    "$$\n",
    "\n",
    "F1 Score giúp đánh giá mô hình với dữ liệu không cân bằng, chẳng hạn như khi số lượng mẫu dương và âm chênh lệch đáng kể.\n",
    "\n",
    "## Tóm tắt\n",
    "| Chỉ số       | Công thức                                       | Ý nghĩa |\n",
    "|--------------|-------------------------------------------------|---------|\n",
    "| Accuracy     | $$\\frac{TP + TN}{TP + TN + FP + FN}$$           | Tỷ lệ dự đoán đúng trên tổng số mẫu |\n",
    "| Recall       | $$\\frac{TP}{TP + FN}$$                          | Tỷ lệ phát hiện đúng các mẫu dương |\n",
    "| Specificity  | $$\\frac{TN}{TN + FP}$$                          | Tỷ lệ phát hiện đúng các mẫu âm |\n",
    "| Precision    | $$\\frac{TP}{TP + FP}$$                          | Tỷ lệ các dự đoán dương chính xác |\n",
    "| F1-Score     | $$\\frac{2 \\times \\text{Precision} \\times \\text{Recall}}{\\text{Precision} + \\text{Recall}}$$ | Cân bằng giữa Precision và Recall |\n"
   ]
  },
  {
   "cell_type": "markdown",
   "metadata": {},
   "source": [
    "# Bài tập nhẹ nhàng"
   ]
  },
  {
   "cell_type": "markdown",
   "metadata": {},
   "source": [
    "### Cho ma trận nhầm lẫn sau: \n",
    "$$\n",
    "\\begin{bmatrix}\n",
    "50 & 10 \\\\\n",
    "5 & 30 \\\\\n",
    "\\end{bmatrix}\n",
    "$$"
   ]
  },
  {
   "cell_type": "markdown",
   "metadata": {},
   "source": [
    "1. Định nghĩa ma trận nhầm lẫn\n",
    "2. Tính toán các chỉ số\n",
    "3. In kết quả"
   ]
  },
  {
   "cell_type": "code",
   "execution_count": 4,
   "metadata": {},
   "outputs": [
    {
     "name": "stdout",
     "output_type": "stream",
     "text": [
      "Confusion Matrix:\n",
      "[[50, 10], [5, 30]]\n",
      "Accuracy: 0.84\n",
      "Recall: 0.86\n",
      "Specificity: 0.83\n",
      "Precision: 0.75\n",
      "F1 Score: 2.00\n"
     ]
    }
   ],
   "source": [
    "# Định nghĩa ma trận nhầm lẫn\n",
    "TN = 50 #code here\n",
    "FP = 10#code here\n",
    "FN =  5#code here\n",
    "TP =  30#code here\n",
    "# Tính toán các chỉ số\n",
    "accuracy = (TN + TP)/sum([TN, FN, TP, FP])#code here\n",
    "recall = (TP)/(FN+TP) #code here\n",
    "specificity = (TN)/(TN+FP) #code here \n",
    "precision = (TP)/(TP+FP)#code here\n",
    "f1 = (2*precision*recall)/(precision*recall)#code here\n",
    "# In kết quả\n",
    "cf_matrix = [[TN, FP],\\\n",
    "             [FN, TP]]\n",
    "print(f\"Confusion Matrix:\\n{cf_matrix}\")#Code here\n",
    "print(f\"Accuracy: {accuracy  :.2f}\")#Code here\n",
    "print(f\"Recall: {   recall:.2f}\")#Code here\n",
    "print(f\"Specificity: {    specificity:.2f}\")#Code here\n",
    "print(f\"Precision: {    precision:.2f}\")#Code here\n",
    "print(f\"F1 Score: {    f1:.2f}\")#Code here"
   ]
  },
  {
   "cell_type": "code",
   "execution_count": null,
   "metadata": {},
   "outputs": [],
   "source": [
    "# Nhận xét ở đây:\n",
    "---\n",
    "----"
   ]
  },
  {
   "cell_type": "markdown",
   "metadata": {},
   "source": [
    "## Bài tập nâng cao"
   ]
  },
  {
   "cell_type": "markdown",
   "metadata": {},
   "source": [
    "### Sủ dụng Markfown để viết ra 4 chỉ số tính độ chính xác, và viết định nghĩa cho các công thức sau:\n",
    "\n",
    "1. Balanced Accuracy\n",
    "2. Matthews Correlation Coefficient (MCC)\n",
    "3. Fowlkes-Mallows Index (FMI)\n",
    "4. Bias\n",
    "\n",
    "### Ứng dụng 4 chỉ số này để tính toán cho bài tập nhẹ nhàng ở trên"
   ]
  },
  {
   "cell_type": "code",
   "execution_count": null,
   "metadata": {},
   "outputs": [],
   "source": [
    "#Code here"
   ]
  },
  {
   "cell_type": "markdown",
   "metadata": {},
   "source": [
    "## Bài tập vận dụng"
   ]
  },
  {
   "cell_type": "code",
   "execution_count": 5,
   "metadata": {},
   "outputs": [
    {
     "name": "stdout",
     "output_type": "stream",
     "text": [
      "   Feature 1  Feature 2\n",
      "0   3.995138   2.704972\n",
      "1  -0.820087   0.827710\n",
      "2   1.900471   2.434856\n",
      "3   2.846560   3.891776\n",
      "4   4.570493   5.069028\n",
      "Nhãn tương ứng: [1. 0. 1. 1. 1.]\n"
     ]
    }
   ],
   "source": [
    "import numpy as np\n",
    "import pandas as pd\n",
    "from sklearn.model_selection import train_test_split\n",
    "\n",
    "# Tạo dữ liệu giả định cho KNN\n",
    "np.random.seed(42)\n",
    "data_size = 1000\n",
    "# Tạo các đặc trưng ngẫu nhiên giữa các lớp\n",
    "X_class0 = np.random.multivariate_normal([2, 2], [[1.5, 0.75], [0.75, 1.5]], data_size // 2)\n",
    "X_class1 = np.random.multivariate_normal([4, 4], [[1.5, 0.75], [0.75, 1.5]], data_size // 2)\n",
    "X = np.vstack((X_class0, X_class1))\n",
    "y = np.hstack((np.zeros(data_size // 2), np.ones(data_size // 2)))\n",
    "# Chia dữ liệu thành tập huấn luyện và tập kiểm tra với test = 30 và random = 42\n",
    "X_train, X_test, y_train, y_test = train_test_split(X, y)#code here\n",
    "# Hiển thị một vài mẫu dữ liệu\n",
    "print(pd.DataFrame(X_train[:5], columns=[\"Feature 1\", \"Feature 2\"]))\n",
    "print(\"Nhãn tương ứng:\", y_train[:5])"
   ]
  },
  {
   "cell_type": "code",
   "execution_count": 10,
   "metadata": {},
   "outputs": [],
   "source": [
    "def euclidean_distance(a, b):\n",
    "    return (a[0] - b[0])**2 + (a[1] - b[1])**2 #code here\n",
    "def knn_predict(X_train, y_train, X_test, k=5):\n",
    "    y_pred = []\n",
    "    for test_point in X_test:\n",
    "        distances = [euclidean_distance(test_point, x) for x in X_train]\n",
    "        k_indices = np.argsort(distances)[:k]\n",
    "        k_nearest_labels = [y_train[i] for i in k_indices]\n",
    "        most_common = max(set(k_nearest_labels), key=k_nearest_labels.count)\n",
    "        #code here\n",
    "        y_pred.append(most_common)\n",
    "    return np.array(y_pred)\n",
    "# Dự đoán trên tập kiểm tra với k = 5\n",
    "y_pred_knn = knn_predict(X_train, y_train, X_test)"
   ]
  },
  {
   "cell_type": "code",
   "execution_count": 11,
   "metadata": {},
   "outputs": [
    {
     "data": {
      "text/plain": [
       "array([1., 1., 1., 0., 0., 1., 1., 1., 0., 1., 0., 1., 1., 1., 1., 0., 0.,\n",
       "       1., 1., 0., 0., 0., 1., 0., 1., 0., 0., 1., 1., 0., 0., 0., 0., 1.,\n",
       "       0., 1., 1., 0., 1., 1., 1., 1., 0., 0., 0., 1., 1., 0., 0., 0., 0.,\n",
       "       0., 0., 0., 0., 1., 1., 1., 0., 0., 1., 1., 1., 0., 0., 0., 0., 0.,\n",
       "       1., 0., 0., 0., 1., 1., 0., 0., 1., 0., 1., 1., 0., 0., 0., 1., 0.,\n",
       "       0., 1., 1., 0., 0., 1., 1., 0., 1., 0., 0., 0., 1., 1., 0., 0., 0.,\n",
       "       0., 0., 1., 1., 1., 0., 0., 0., 1., 0., 1., 0., 0., 1., 0., 1., 1.,\n",
       "       0., 0., 0., 1., 0., 0., 0., 1., 1., 0., 0., 0., 1., 1., 0., 0., 1.,\n",
       "       1., 0., 1., 0., 1., 1., 0., 0., 0., 0., 0., 0., 0., 0., 1., 0., 0.,\n",
       "       0., 0., 0., 0., 1., 1., 0., 0., 0., 0., 1., 0., 1., 1., 1., 1., 0.,\n",
       "       1., 0., 0., 1., 0., 1., 1., 0., 1., 0., 0., 0., 1., 1., 1., 0., 1.,\n",
       "       0., 1., 0., 0., 1., 0., 1., 1., 1., 1., 1., 1., 0., 0., 0., 1., 1.,\n",
       "       0., 0., 0., 0., 0., 1., 0., 1., 0., 1., 0., 0., 1., 1., 1., 1., 0.,\n",
       "       1., 1., 0., 1., 1., 1., 1., 1., 1., 1., 0., 0., 0., 1., 1., 1., 0.,\n",
       "       0., 0., 0., 0., 1., 1., 0., 0., 1., 0., 1., 1.])"
      ]
     },
     "execution_count": 11,
     "metadata": {},
     "output_type": "execute_result"
    }
   ],
   "source": [
    "y_pred_knn"
   ]
  },
  {
   "cell_type": "code",
   "execution_count": 12,
   "metadata": {},
   "outputs": [
    {
     "data": {
      "text/plain": [
       "array([1., 1., 0., 1., 0., 0., 1., 0., 0., 1., 0., 1., 1., 1., 1., 1., 0.,\n",
       "       1., 1., 0., 0., 0., 0., 1., 1., 0., 0., 1., 1., 1., 0., 1., 0., 1.,\n",
       "       0., 1., 0., 0., 1., 0., 1., 1., 1., 0., 0., 0., 1., 0., 1., 0., 0.,\n",
       "       0., 0., 0., 0., 1., 1., 0., 0., 0., 1., 1., 1., 0., 0., 0., 0., 0.,\n",
       "       1., 1., 0., 1., 1., 1., 0., 0., 0., 0., 1., 1., 0., 0., 0., 1., 0.,\n",
       "       1., 0., 0., 0., 1., 0., 1., 0., 1., 0., 0., 0., 0., 1., 0., 0., 0.,\n",
       "       0., 1., 1., 1., 1., 0., 0., 0., 1., 0., 1., 0., 1., 1., 1., 1., 0.,\n",
       "       0., 0., 0., 1., 1., 0., 0., 1., 1., 0., 0., 0., 1., 0., 1., 0., 0.,\n",
       "       0., 0., 1., 0., 1., 1., 0., 0., 0., 0., 1., 0., 1., 1., 0., 1., 0.,\n",
       "       0., 0., 0., 0., 0., 1., 1., 0., 0., 0., 1., 1., 1., 1., 0., 1., 0.,\n",
       "       1., 0., 0., 1., 0., 1., 0., 0., 0., 0., 0., 1., 1., 1., 0., 0., 1.,\n",
       "       0., 0., 1., 0., 1., 0., 1., 1., 1., 1., 0., 1., 0., 0., 0., 0., 1.,\n",
       "       0., 1., 1., 0., 0., 1., 0., 0., 0., 1., 0., 0., 0., 0., 1., 1., 1.,\n",
       "       1., 1., 0., 1., 1., 1., 0., 1., 1., 1., 0., 0., 0., 1., 1., 1., 0.,\n",
       "       0., 0., 1., 0., 0., 1., 0., 0., 1., 0., 0., 1.])"
      ]
     },
     "execution_count": 12,
     "metadata": {},
     "output_type": "execute_result"
    }
   ],
   "source": [
    "y_test"
   ]
  },
  {
   "cell_type": "code",
   "execution_count": null,
   "metadata": {},
   "outputs": [
    {
     "name": "stdout",
     "output_type": "stream",
     "text": [
      "KNN Model Evaluation:\n",
      "Confusion Matrix:\n",
      "[[116  34]\n",
      " [ 16 134]]\n",
      "Accuracy: 0.83\n",
      "Recall: 0.89\n",
      "Specificity: 0.77\n",
      "Precision: 0.80\n",
      "F1 Score: 0.84\n"
     ]
    }
   ],
   "source": [
    "# Định nghĩa hàm confusion_matrix\n",
    "def confusion_matrix(y_true, y_pred):\n",
    "    n = len(y_true)\n",
    "    TP = sum([ 1 if (y_true[x]==y_pred[x] == 1.) else 0 for x in range(n)])#code here\n",
    "    TN = sum([ 1 if (y_true[x]==y_pred[x] == 0.) else 0 for x in range(n)])#code here\n",
    "    FP = sum([ 1 if (y_true[x] == y_pred[x] == 1.) else 0 for x in range(n)])#code here\n",
    "    FN = sum([ 1 if (y_true[x]==y_pred[x] == 1.) else 0 for x in range(n)])#code here\n",
    "    return #code here\n",
    "\n",
    "# Hàm tính toán và in các chỉ số\n",
    "def evaluate_model(y_test, y_pred):\n",
    "    cm = confusion_matrix(y_test, y_pred)\n",
    "    TN, FP, FN, TP = cm.ravel()\n",
    "    accuracy = #code here\n",
    "    recall = #code here\n",
    "    specificity =#code here\n",
    "    precision = #code here\n",
    "    f1 = #code here\n",
    "    print(f\"Confusion Matrix:\\n{cm}\")\n",
    "    print(f\"Accuracy: {accuracy:.2f}\")\n",
    "    print(f\"Recall: {recall:.2f}\")\n",
    "    print(f\"Specificity: {specificity:.2f}\")\n",
    "    print(f\"Precision: {precision:.2f}\")\n",
    "    print(f\"F1 Score: {f1:.2f}\")\n",
    "# Đánh giá mô hình KNN\n",
    "print(\"KNN Model Evaluation:\")\n",
    "#code here\n"
   ]
  },
  {
   "cell_type": "markdown",
   "metadata": {},
   "source": [
    "# Bài tập về nhà"
   ]
  },
  {
   "cell_type": "markdown",
   "metadata": {},
   "source": [
    "### Tải tập dữ liệu Wine từ sklearn.datasets và chia tập dữ liệu theo tỷ lệ 70:30. Xây dựng mô hình KNN để phân loại dữ liệu. Sử dụng k = 5. Tính toán và in ra độ chính xác, recall, và precision của mô hình\n",
    "### Xây dựng website để trực quan hóa kết quả và độ chính xác"
   ]
  },
  {
   "cell_type": "code",
   "execution_count": null,
   "metadata": {},
   "outputs": [],
   "source": [
    "#Code here"
   ]
  },
  {
   "cell_type": "code",
   "execution_count": null,
   "metadata": {},
   "outputs": [],
   "source": [
    "#Code here"
   ]
  },
  {
   "cell_type": "code",
   "execution_count": null,
   "metadata": {},
   "outputs": [],
   "source": [
    "#Code here"
   ]
  },
  {
   "cell_type": "code",
   "execution_count": null,
   "metadata": {},
   "outputs": [],
   "source": [
    "#Code here"
   ]
  }
 ],
 "metadata": {
  "kernelspec": {
   "display_name": "LEARN",
   "language": "python",
   "name": "python3"
  },
  "language_info": {
   "codemirror_mode": {
    "name": "ipython",
    "version": 3
   },
   "file_extension": ".py",
   "mimetype": "text/x-python",
   "name": "python",
   "nbconvert_exporter": "python",
   "pygments_lexer": "ipython3",
   "version": "3.12.2"
  }
 },
 "nbformat": 4,
 "nbformat_minor": 2
}
