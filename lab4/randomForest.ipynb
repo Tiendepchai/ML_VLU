{
 "cells": [
  {
   "cell_type": "code",
   "execution_count": 1,
   "id": "0b46ab22-09cc-450b-96d8-07a86ae2657a",
   "metadata": {},
   "outputs": [
    {
     "name": "stdout",
     "output_type": "stream",
     "text": [
      "['F' 'M']\n",
      "['HIGH' 'LOW' 'NORMAL']\n",
      "['HIGH' 'NORMAL']\n",
      "['DrugY' 'drugC' 'drugX' 'drugA' 'drugB']\n",
      "     Age  Sex  BP  Cholesterol  Na_to_K\n",
      "0     23    1   2            1   25.355\n",
      "1     47    0   0            1   13.093\n",
      "2     47    0   0            1   10.114\n",
      "3     28    1   1            1    7.798\n",
      "4     61    1   0            1   18.043\n",
      "..   ...  ...  ..          ...      ...\n",
      "195   56    1   0            1   11.567\n",
      "196   16    0   0            1   12.006\n",
      "197   52    0   1            1    9.894\n",
      "198   23    0   1            0   14.020\n",
      "199   40    1   0            0   11.349\n",
      "\n",
      "[200 rows x 5 columns]\n",
      "0      4\n",
      "1      2\n",
      "2      2\n",
      "3      3\n",
      "4      4\n",
      "      ..\n",
      "195    2\n",
      "196    2\n",
      "197    3\n",
      "198    3\n",
      "199    3\n",
      "Name: Drug, Length: 200, dtype: int64\n"
     ]
    }
   ],
   "source": [
    "%run /home/nuke/Documents/ML_VLU/lab4/decisionTree.ipynb"
   ]
  },
  {
   "cell_type": "code",
   "execution_count": 2,
   "id": "01fad103-63c1-43d4-b66f-1719c85f16a6",
   "metadata": {},
   "outputs": [],
   "source": [
    "# hàm lấy các mẫu dữ liệu ngẫu nhiên trong đó các phần tử có thể lặp lại (trùng nhau)\n",
    "def bootstrap(X, y): # X là frame, y là series \n",
    "    n_sample = X.shape[0]\n",
    "    _id = np.random.choice(n_sample, n_sample, replace = True) # dạng mảng\n",
    "    return X.loc[_id], y.loc[_id] # phải hiểu tại sao iloc cho cả X và y? \n",
    "    # liên quan đến chỉ số X_train khi dùng train_test_split"
   ]
  },
  {
   "cell_type": "code",
   "execution_count": 3,
   "id": "761beac4",
   "metadata": {},
   "outputs": [],
   "source": [
    "tmp_x, tmp_y = bootstrap(X, y)"
   ]
  },
  {
   "cell_type": "code",
   "execution_count": 4,
   "id": "4e9f82ce",
   "metadata": {},
   "outputs": [
    {
     "name": "stdout",
     "output_type": "stream",
     "text": [
      "     Age  Sex  BP  Cholesterol  Na_to_K\n",
      "9     43    0   0            0   19.368\n",
      "183   36    1   2            0   15.490\n",
      "167   57    1   1            1   14.216\n",
      "67    17    0   1            0   10.832\n",
      "3     28    1   1            1    7.798\n",
      "..   ...  ...  ..          ...      ...\n",
      "86    51    1   1            1   13.597\n",
      "14    50    1   1            1   12.703\n",
      "26    31    0   2            1   30.366\n",
      "1     47    0   0            1   13.093\n",
      "169   20    1   2            1   11.262\n",
      "\n",
      "[200 rows x 5 columns]\n"
     ]
    }
   ],
   "source": [
    "print(tmp_x)"
   ]
  },
  {
   "cell_type": "code",
   "execution_count": 5,
   "id": "abe0ef31",
   "metadata": {},
   "outputs": [
    {
     "name": "stdout",
     "output_type": "stream",
     "text": [
      "9      4\n",
      "183    4\n",
      "167    3\n",
      "67     3\n",
      "3      3\n",
      "      ..\n",
      "86     3\n",
      "14     3\n",
      "26     4\n",
      "1      2\n",
      "169    0\n",
      "Name: Drug, Length: 200, dtype: int64\n"
     ]
    }
   ],
   "source": [
    "print(tmp_y)"
   ]
  },
  {
   "cell_type": "code",
   "execution_count": null,
   "id": "164511f0",
   "metadata": {},
   "outputs": [],
   "source": []
  },
  {
   "cell_type": "code",
   "execution_count": 20,
   "id": "f0431a38-54f4-442c-acc2-efd8c9fc37df",
   "metadata": {},
   "outputs": [],
   "source": [
    "# lớp RandomForest \n",
    "class RandomForest:\n",
    "    def __init__(self, n_trees = 5, max_depth = 10, min_samples_split = 2, n_features = None):\n",
    "        self.n_trees =  n_trees\n",
    "        self.max_depth = max_depth\n",
    "        self.min_samples_split = min_samples_split\n",
    "        self.n_features = n_features\n",
    "        self.trees = []\n",
    "        self.count = 0\n",
    "\n",
    "    def fit(self, X, y):  # X là frame, y là series\n",
    "        self.trees = [] # tạo list chứa số cây cho dự đoán\n",
    "        for i in range(self.n_trees):\n",
    "            if self.count == 1: break\n",
    "            # với mỗi giá trị i ta tạo một cây quyết định\n",
    "            tree = DecisionTreeClass(min_samples_split = self.min_samples_split, max_depth = self.max_depth, n_features = self.n_features)\n",
    "            self.count += 1\n",
    "            X_sample, y_sample = bootstrap(X, y) # tạo mẫu X và y thay đổi qua mỗi lần lặp\n",
    "            return X_sample, y_sample\n",
    "            # print(X_sample)\n",
    "            # print(y_sample)\n",
    "\n",
    "            # tree.fit(X_sample, y_sample) # tạo cây\n",
    "            # self.trees.append(tree) # thêm cây vào list cây\n",
    "            # print(self.count)\n",
    "            # break\n",
    "\n",
    "    def predict(self, X):  # X là frame\n",
    "        # lấy dự đoán từ từng cây\n",
    "        arr_pred = np.array([tree.predict(X) for tree in self.trees])\n",
    "        final_pred = []\n",
    "        for i in range(arr_pred.shape[1]): \n",
    "            sample_pred = arr_pred[:, i] # trả loại mảng\n",
    "            final_pred.append(most_value(pd.Series(sample_pred))) # tham số trong hàm most_value phải ở dạng series\n",
    "        return np.array(final_pred)  # trả về giá trị dự đoán sau khi vote n cây"
   ]
  }
 ],
 "metadata": {
  "kernelspec": {
   "display_name": "LEARN",
   "language": "python",
   "name": "python3"
  },
  "language_info": {
   "codemirror_mode": {
    "name": "ipython",
    "version": 3
   },
   "file_extension": ".py",
   "mimetype": "text/x-python",
   "name": "python",
   "nbconvert_exporter": "python",
   "pygments_lexer": "ipython3",
   "version": "3.12.2"
  }
 },
 "nbformat": 4,
 "nbformat_minor": 5
}
