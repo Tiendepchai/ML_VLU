{
 "cells": [
  {
   "cell_type": "code",
   "execution_count": 3,
   "metadata": {},
   "outputs": [
    {
     "data": {
      "text/plain": [
       "Text(0.5, 1.0, 'Chiều cao và cân nặng của sinh viên VLU')"
      ]
     },
     "execution_count": 3,
     "metadata": {},
     "output_type": "execute_result"
    }
   ],
   "source": [
    "import numpy as np\n",
    "import streamlit as st\n",
    "\n",
    "import matplotlib.pyplot as plt\n",
    "import streamlit.components.v1 as components\n",
    "\n",
    "x = np.array([180, 162, 183, 174, 160, 163, 180, 165, 175, 170, 170, 169,168, 175, 169, 171, 155, 158, 175, 165]).reshape(-1,1)\n",
    "X = np.array([180, 162, 183, 174, 160, 163, 180, 165, 175, 170, 170, 169,168, 175, 169, 171, 155, 158, 175, 165]).reshape(-1,1)\n",
    "y = np.array([86, 55, 86.5, 70, 62, 54, 60, 72, 93, 89, 60, 82, 59, 75,\n",
    "56, 89, 45, 60, 60, 72]).reshape((-1,1))\n",
    "X = np.insert(X, 0, 1, axis=1)\n",
    "\n",
    "theta_seg1 = np.linalg.inv(X.T.dot(X))\n",
    "theta_seg2 = (X.T).dot(y)\n",
    "theta = theta_seg1.dot(theta_seg2)\n",
    "\n",
    "x1 = 150\n",
    "y1 = theta[0] + theta[1] * x1\n",
    "x2 = 190\n",
    "y2 = theta[0] + theta[1] * x2\n",
    "plt.plot([x1, x2], [y1, y2], 'r-')\n",
    "plt.plot(X[:,1], y[:,0], 'bo')\n",
    "plt.xlabel('Chiều cao')\n",
    "plt.ylabel('Cân nặng')\n",
    "plt.title('Chiều cao và cân nặng của sinh viên VLU')\n",
    "\n"
   ]
  },
  {
   "cell_type": "code",
   "execution_count": 18,
   "metadata": {},
   "outputs": [],
   "source": [
    "from IPython.display import Image"
   ]
  },
  {
   "cell_type": "code",
   "execution_count": 19,
   "metadata": {},
   "outputs": [
    {
     "data": {
      "text/html": [
       "<img src=\"/home/nuke/Documents/ML_VLU/lab1/nakba_1948.png\"/>"
      ],
      "text/plain": [
       "<IPython.core.display.Image object>"
      ]
     },
     "execution_count": 19,
     "metadata": {},
     "output_type": "execute_result"
    }
   ],
   "source": [
    "Image(url= '/home/nuke/Documents/ML_VLU/lab1/nakba_1948.png')"
   ]
  },
  {
   "cell_type": "code",
   "execution_count": null,
   "metadata": {},
   "outputs": [],
   "source": []
  }
 ],
 "metadata": {
  "kernelspec": {
   "display_name": "LEARN",
   "language": "python",
   "name": "python3"
  },
  "language_info": {
   "codemirror_mode": {
    "name": "ipython",
    "version": 3
   },
   "file_extension": ".py",
   "mimetype": "text/x-python",
   "name": "python",
   "nbconvert_exporter": "python",
   "pygments_lexer": "ipython3",
   "version": "3.12.2"
  }
 },
 "nbformat": 4,
 "nbformat_minor": 2
}
