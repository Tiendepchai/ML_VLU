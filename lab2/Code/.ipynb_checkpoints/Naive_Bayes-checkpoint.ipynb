{
 "cells": [
  {
   "cell_type": "markdown",
   "id": "534317fc-8171-4d04-8578-2e72a1044c17",
   "metadata": {},
   "source": [
    "Câu 1: Phân phối Bernoulli và Multinomial"
   ]
  },
  {
   "cell_type": "markdown",
   "id": "76d3781c-fd56-42a9-b2b7-9999364c2892",
   "metadata": {},
   "source": [
    "Cho tập dữ liệu Education.csv [https://drive.google.com/file/d/1Gn6YWHXRuPbTUXY5HFxM5C_tJHuZxCka/view?usp=sharing]\n",
    "- Trong đó:\n",
    "    - Text: Chứa đoạn văn bản liên quan đến chủ đề giáo dục.\n",
    "    - Label: Chứa nhãn cảm xúc của văn bản [Tích cực (Positive)/Tiêu cực (Negative)].\n",
    "- Yêu cầu: Áp dụng thuật toán Naive Bayes (phân phối bernoulli và phân phối Multinomial) để dự đoán cảm xúc của văn bản là tích cực hay tiêu cực và so sánh kết quả của hai phân phối đó."
   ]
  },
  {
   "cell_type": "code",
   "execution_count": 2,
   "id": "756ab839",
   "metadata": {},
   "outputs": [
    {
     "ename": "ModuleNotFoundError",
     "evalue": "No module named 'sklearn'",
     "output_type": "error",
     "traceback": [
      "\u001b[0;31m---------------------------------------------------------------------------\u001b[0m",
      "\u001b[0;31mModuleNotFoundError\u001b[0m                       Traceback (most recent call last)",
      "\u001b[0;32m/tmp/ipykernel_125196/2348254055.py\u001b[0m in \u001b[0;36m<module>\u001b[0;34m\u001b[0m\n\u001b[1;32m      1\u001b[0m \u001b[0;32mimport\u001b[0m \u001b[0mnumpy\u001b[0m \u001b[0;32mas\u001b[0m \u001b[0mnp\u001b[0m\u001b[0;34m\u001b[0m\u001b[0;34m\u001b[0m\u001b[0m\n\u001b[0;32m----> 2\u001b[0;31m \u001b[0;32mfrom\u001b[0m \u001b[0msklearn\u001b[0m\u001b[0;34m.\u001b[0m\u001b[0mnaive_bayes\u001b[0m \u001b[0;32mimport\u001b[0m \u001b[0mBernoulliNB\u001b[0m\u001b[0;34m,\u001b[0m \u001b[0mMultinomialNB\u001b[0m\u001b[0;34m\u001b[0m\u001b[0;34m\u001b[0m\u001b[0m\n\u001b[0m\u001b[1;32m      3\u001b[0m \u001b[0;32mimport\u001b[0m \u001b[0mpandas\u001b[0m \u001b[0;32mas\u001b[0m \u001b[0mpd\u001b[0m\u001b[0;34m\u001b[0m\u001b[0;34m\u001b[0m\u001b[0m\n",
      "\u001b[0;31mModuleNotFoundError\u001b[0m: No module named 'sklearn'"
     ]
    }
   ],
   "source": [
    "import numpy as np\n",
    "from sklearn.naive_bayes import BernoulliNB, MultinomialNB\n",
    "import pandas as pd"
   ]
  },
  {
   "cell_type": "code",
   "execution_count": 3,
   "id": "ed8182f3",
   "metadata": {},
   "outputs": [
    {
     "ename": "NameError",
     "evalue": "name 'pd' is not defined",
     "output_type": "error",
     "traceback": [
      "\u001b[0;31m---------------------------------------------------------------------------\u001b[0m",
      "\u001b[0;31mNameError\u001b[0m                                 Traceback (most recent call last)",
      "\u001b[0;32m/tmp/ipykernel_125196/2159026375.py\u001b[0m in \u001b[0;36m<module>\u001b[0;34m\u001b[0m\n\u001b[0;32m----> 1\u001b[0;31m \u001b[0mdf\u001b[0m \u001b[0;34m=\u001b[0m \u001b[0mpd\u001b[0m\u001b[0;34m.\u001b[0m\u001b[0mread_csv\u001b[0m\u001b[0;34m(\u001b[0m\u001b[0;34m\"~/Documents/ML_VLU/lab2/Data/Education.csv\"\u001b[0m\u001b[0;34m)\u001b[0m\u001b[0;34m\u001b[0m\u001b[0;34m\u001b[0m\u001b[0m\n\u001b[0m",
      "\u001b[0;31mNameError\u001b[0m: name 'pd' is not defined"
     ]
    }
   ],
   "source": [
    "df = pd.read_csv(\"~/Documents/ML_VLU/lab2/Data/Education.csv\")"
   ]
  },
  {
   "cell_type": "code",
   "execution_count": 4,
   "id": "b5d29ce8",
   "metadata": {},
   "outputs": [
    {
     "ename": "NameError",
     "evalue": "name 'df' is not defined",
     "output_type": "error",
     "traceback": [
      "\u001b[0;31m---------------------------------------------------------------------------\u001b[0m",
      "\u001b[0;31mNameError\u001b[0m                                 Traceback (most recent call last)",
      "\u001b[0;32m/tmp/ipykernel_125196/223627333.py\u001b[0m in \u001b[0;36m<module>\u001b[0;34m\u001b[0m\n\u001b[0;32m----> 1\u001b[0;31m \u001b[0mdf\u001b[0m\u001b[0;34m.\u001b[0m\u001b[0mhead\u001b[0m\u001b[0;34m(\u001b[0m\u001b[0;36m5\u001b[0m\u001b[0;34m)\u001b[0m\u001b[0;34m\u001b[0m\u001b[0;34m\u001b[0m\u001b[0m\n\u001b[0m",
      "\u001b[0;31mNameError\u001b[0m: name 'df' is not defined"
     ]
    }
   ],
   "source": [
    "df.head(5)"
   ]
  },
  {
   "cell_type": "code",
   "execution_count": null,
   "id": "72ef88af",
   "metadata": {},
   "outputs": [],
   "source": [
    "text, label = df['Text'], df['Label']"
   ]
  },
  {
   "cell_type": "code",
   "execution_count": null,
   "id": "205186f4",
   "metadata": {},
   "outputs": [],
   "source": [
    "label.head(5)"
   ]
  },
  {
   "cell_type": "code",
   "execution_count": null,
   "id": "98ba24cb",
   "metadata": {},
   "outputs": [],
   "source": [
    "from sklearn.model_selection import train_test_split\n",
    "X_train, X_test, y_train, y_test = train_test_split(text, label, test_size=0.2, random_state=42)\n"
   ]
  },
  {
   "cell_type": "code",
   "execution_count": null,
   "id": "10c2956b",
   "metadata": {},
   "outputs": [],
   "source": [
    "\n",
    "\n",
    "# Convert data into numerical features\n",
    "from sklearn.feature_extraction.text import TfidfVectorizer\n",
    "\n",
    "vectorizer = TfidfVectorizer(stop_words='english')\n",
    "X_train_vect = vectorizer.fit_transform(X_train)\n",
    "X_test_vect = vectorizer.transform(X_test)\n",
    "\n"
   ]
  },
  {
   "cell_type": "code",
   "execution_count": null,
   "id": "935b9dc3",
   "metadata": {},
   "outputs": [],
   "source": [
    "X_train_vect = X_train_vect.toarray()\n",
    "X_test_vect = X_test_vect.toarray()\n"
   ]
  },
  {
   "cell_type": "code",
   "execution_count": null,
   "id": "6ea5a961",
   "metadata": {},
   "outputs": [],
   "source": [
    "Bernoulli, Multinomial = BernoulliNB(), MultinomialNB()\n",
    "Bernoulli.fit(X_train_vect, y_train)\n",
    "Multinomial.fit(X_train_vect, y_train)"
   ]
  },
  {
   "cell_type": "code",
   "execution_count": null,
   "id": "7ff8c866",
   "metadata": {},
   "outputs": [],
   "source": [
    "from sklearn.metrics import accuracy_score, classification_report\n"
   ]
  },
  {
   "cell_type": "code",
   "execution_count": null,
   "id": "8a11019d",
   "metadata": {},
   "outputs": [],
   "source": [
    "print(accuracy_score(Multinomial.predict(X_test_vect),y_test))\n",
    "print(accuracy_score(Bernoulli.predict(X_test_vect),y_test))"
   ]
  },
  {
   "cell_type": "code",
   "execution_count": null,
   "id": "70e2571b",
   "metadata": {},
   "outputs": [],
   "source": [
    "Multinomial_rp = classification_report(y_test, Multinomial.predict(X_test_vect), target_names=[\"Posi\", \"Nega\"])\n",
    "Bernoulli_rp = classification_report(y_test, Bernoulli.predict(X_test_vect), target_names=[\"Posi\", \"Nega\"])\n"
   ]
  },
  {
   "cell_type": "code",
   "execution_count": null,
   "id": "62cbdd0e",
   "metadata": {},
   "outputs": [],
   "source": [
    "print(Bernoulli_rp)\n",
    "print(Multinomial_rp)"
   ]
  },
  {
   "cell_type": "code",
   "execution_count": null,
   "id": "a771a099",
   "metadata": {},
   "outputs": [],
   "source": [
    "import streamlit as st\n",
    "\n",
    "title = st.text_input(\"Tôi sẽ phân tích tâm trạng của bạn \", \"Nhập một câu\")\n",
    "\n",
    "user = vectorizer.transform(np.array([title]))\n",
    "\n",
    "st.write(\"Tâm trạng của bạn là\", Bernoulli.predict(user) if title != \"Nhập một câu\" else None)"
   ]
  },
  {
   "cell_type": "code",
   "execution_count": null,
   "id": "948520f0",
   "metadata": {},
   "outputs": [],
   "source": [
    "import solara\n",
    "\n",
    "clicks = solara.reactive(0)\n",
    "\n",
    "\n",
    "@solara.component\n",
    "def Page():\n",
    "    def increase_clicks():\n",
    "        clicks.value += 1\n",
    "\n",
    "    solara.Button(label=f\"Clicked {clicks} times\", on_click=increase_clicks)\n",
    "\n",
    "# in the Jupyter notebook, uncomment the next line:\n",
    "display(Page())"
   ]
  },
  {
   "cell_type": "code",
   "execution_count": null,
   "id": "772263d2",
   "metadata": {},
   "outputs": [],
   "source": []
  },
  {
   "cell_type": "markdown",
   "id": "2ddba7d5-909f-4def-9a45-60bf83f7741c",
   "metadata": {},
   "source": [
    "Câu 2: Phân phối Gaussian"
   ]
  },
  {
   "cell_type": "markdown",
   "id": "acdf8be6-a117-4c6f-9035-4edc4190f185",
   "metadata": {},
   "source": [
    "Cho tập dữ liệu Drug.csv [https://drive.google.com/file/d/1_G8oXkLlsauQkujZzJZJwibAWu5PgBXK/view?usp=sharing]\n",
    "- Trong đó:\n",
    "  - Age: Tuổi của bệnh nhân\n",
    "  - Sex: Giới tính của bệnh nhân\n",
    "  - BP: Mức huyết áp\n",
    "  - Cholesterol: Mức cholesterol trong máu\n",
    "  - Na_to_K: Tỷ lệ Natri và Kali trong máu\n",
    "  - Drug: Loại thuốc [A/B/C/X/Y]\n",
    "- Yêu cầu: Áp dụng thuật toán Naive Bayes (phân phối Gaussian) để dự đoán kết quả loại thuốc phù hợp với bệnh nhân."
   ]
  },
  {
   "cell_type": "code",
   "execution_count": null,
   "id": "3bd8ce91-9d07-4213-aabb-c4696f3fd50d",
   "metadata": {},
   "outputs": [],
   "source": [
    "import numpy as np\n",
    "import pandas as pd\n",
    "from sklearn.model_selection import train_test_split\n",
    "from sklearn.naive_bayes import GaussianNB\n",
    "from sklearn.metrics import accuracy_score, classification_report"
   ]
  },
  {
   "cell_type": "code",
   "execution_count": null,
   "id": "2105ee06-30d0-45e7-a703-3535ea6fd195",
   "metadata": {},
   "outputs": [],
   "source": [
    "df = pd.read_csv(\"../Data/drug200.csv\")"
   ]
  },
  {
   "cell_type": "code",
   "execution_count": null,
   "id": "df15da2b",
   "metadata": {},
   "outputs": [],
   "source": [
    "df.head(10)"
   ]
  },
  {
   "cell_type": "markdown",
   "id": "24034aa2-86b2-488b-8746-cf43222c99bc",
   "metadata": {},
   "source": []
  },
  {
   "cell_type": "code",
   "execution_count": null,
   "id": "69d5fc8b-7f0b-48bd-9d34-664942841b77",
   "metadata": {},
   "outputs": [],
   "source": [
    "def HelloWorld(s):\n",
    "  print(s)\n",
    "HelloWorld(\"print\")"
   ]
  }
 ],
 "metadata": {
  "kernelspec": {
   "display_name": "Python 3 (ipykernel)",
   "language": "python",
   "name": "python3"
  },
  "language_info": {
   "codemirror_mode": {
    "name": "ipython",
    "version": 3
   },
   "file_extension": ".py",
   "mimetype": "text/x-python",
   "name": "python",
   "nbconvert_exporter": "python",
   "pygments_lexer": "ipython3",
   "version": "3.10.12"
  }
 },
 "nbformat": 4,
 "nbformat_minor": 5
}
